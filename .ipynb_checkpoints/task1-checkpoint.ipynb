{
 "cells": [
  {
   "cell_type": "code",
   "execution_count": 3,
   "metadata": {
    "id": "ZgA3pkBJlKEr"
   },
   "outputs": [],
   "source": [
    "import numpy as np\n",
    "import pandas as pd\n",
    "from sklearn.metrics import mean_squared_error\n",
    "from sklearn.linear_model import Ridge\n",
    "from sklearn.model_selection import KFold\n",
    "\n",
    "#import the data\n",
    "data = pd.read_csv('train.csv')\n",
    "X = data.drop('y', axis=1).to_numpy()\n",
    "y = data['y'].to_numpy()"
   ]
  },
  {
   "cell_type": "code",
   "execution_count": 9,
   "metadata": {
    "colab": {
     "base_uri": "https://localhost:8080/"
    },
    "id": "J2qLnZVXmJoK",
    "outputId": "aeb9ce34-7c90-4969-e1ad-9a6b38db7c4b"
   },
   "outputs": [
    {
     "name": "stdout",
     "output_type": "stream",
     "text": [
      "The average RMSE for lambda = 0.1 is: 5.389578652990092\n",
      "The average RMSE for lambda = 1 is: 5.366220579058336\n",
      "The average RMSE for lambda = 10 is: 5.353977594589445\n",
      "The average RMSE for lambda = 100 is: 5.8409151141208095\n",
      "The average RMSE for lambda = 200 is: 6.1520370662819985\n"
     ]
    }
   ],
   "source": [
    "l = [0.1,1,10,100,200]\n",
    "\n",
    "#set up splitting the data into training and testing groups\n",
    "#last time ultimate pi day happened was in 1592 (:\n",
    "kf = KFold(n_splits=10, shuffle=True, random_state=1592)\n",
    "averages = np.zeros(5)\n",
    "\n",
    "#perform Ridge with cross validation for each lambda\n",
    "for i in range(5):\n",
    "    RMSE = 0\n",
    "    for train_index, test_index in kf.split(X): \n",
    "        train_X, train_y = X[train_index], y[train_index]\n",
    "        test_X, test_y = X[test_index], y[test_index]\n",
    "        model = Ridge(alpha=l[i],fit_intercept=False).fit(train_X, train_y)\n",
    "        RMSE = RMSE + mean_squared_error(test_y, model.predict(test_X),squared=False)/10\n",
    "    averages[i] = RMSE\n",
    "    print(f\"The average RMSE for lambda = {l[i]} is: {averages[i]}\")"
   ]
  },
  {
   "cell_type": "code",
   "execution_count": 3,
   "metadata": {
    "colab": {
     "base_uri": "https://localhost:8080/",
     "height": 204
    },
    "id": "sAGl1VHmrb30",
    "outputId": "c029c76c-5e60-44d2-b2a2-a85bde9712f6",
    "scrolled": true
   },
   "outputs": [],
   "source": [
    "#write averages of the RMSEs to csv file\n",
    "submission = pd.Series(averages)\n",
    "submission.to_csv('submission.csv', index=False, header=False)"
   ]
  }
 ],
 "metadata": {
  "colab": {
   "collapsed_sections": [],
   "name": "task1.ipynb",
   "provenance": [],
   "toc_visible": true
  },
  "kernelspec": {
   "display_name": "Python 3",
   "language": "python",
   "name": "python3"
  },
  "language_info": {
   "codemirror_mode": {
    "name": "ipython",
    "version": 3
   },
   "file_extension": ".py",
   "mimetype": "text/x-python",
   "name": "python",
   "nbconvert_exporter": "python",
   "pygments_lexer": "ipython3",
   "version": "3.8.5"
  }
 },
 "nbformat": 4,
 "nbformat_minor": 1
}
